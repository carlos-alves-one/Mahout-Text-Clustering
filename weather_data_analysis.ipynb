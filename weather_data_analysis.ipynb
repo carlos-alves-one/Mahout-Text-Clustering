{
  "nbformat": 4,
  "nbformat_minor": 0,
  "metadata": {
    "colab": {
      "provenance": [],
      "toc_visible": true,
      "authorship_tag": "ABX9TyPi9ibOpPi2nxT2Fvtoeo2p",
      "include_colab_link": true
    },
    "kernelspec": {
      "name": "python3",
      "display_name": "Python 3"
    },
    "language_info": {
      "name": "python"
    }
  },
  "cells": [
    {
      "cell_type": "markdown",
      "metadata": {
        "id": "view-in-github",
        "colab_type": "text"
      },
      "source": [
        "<a href=\"https://colab.research.google.com/github/carlos-alves-one/-BDA-CW1/blob/main/weather_data_analysis.ipynb\" target=\"_parent\"><img src=\"https://colab.research.google.com/assets/colab-badge.svg\" alt=\"Open In Colab\"/></a>"
      ]
    },
    {
      "cell_type": "markdown",
      "source": [
        "### Goldsmiths University of London\n",
        "### MSc. Data Science and Artificial Intelligence\n",
        "### Module: Big Data Analysis\n",
        "### Author: Carlos Manuel De Oliveira Alves\n",
        "### Student: cdeol003\n",
        "### Coursework Project"
      ],
      "metadata": {
        "id": "CMe80Gs3qm-c"
      }
    },
    {
      "cell_type": "markdown",
      "source": [
        "# Define Goal and Tasks\n",
        "\n",
        "THE GOAL OF THIS PROJECT IS TO ANALYZE WEATHER DATA FROM A CSV FILE\n",
        "\n",
        "We will outline the pseudo-code for mapper and reducer functions for each requested task using\n",
        "the MapReduce computational model on a Hadoop cluster to address the tasks.\n",
        "We will then provide Python implementations of these pseudo codes.\n",
        "\n",
        "The tasks are:\n",
        "\n",
        "1. Finding the difference between the maximum and minimum wind speed for each day.\n",
        "\n",
        "2. Finding the daily minimum relative humidity.\n",
        "\n",
        "3. Calculating the daily mean and variance of the dew point temperature.\n",
        "\n",
        "4. Generating a correlation matrix for the month among relative humidity, wind speed,\n",
        "   and dry bulb temperature."
      ],
      "metadata": {
        "id": "u5mJNUk_rLye"
      }
    }
  ]
}