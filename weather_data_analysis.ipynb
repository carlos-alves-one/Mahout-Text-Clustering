{
  "nbformat": 4,
  "nbformat_minor": 0,
  "metadata": {
    "colab": {
      "provenance": [],
      "toc_visible": true,
      "authorship_tag": "ABX9TyOqf83MCLK/e6Fb7/cLUfGv",
      "include_colab_link": true
    },
    "kernelspec": {
      "name": "python3",
      "display_name": "Python 3"
    },
    "language_info": {
      "name": "python"
    }
  },
  "cells": [
    {
      "cell_type": "markdown",
      "metadata": {
        "id": "view-in-github",
        "colab_type": "text"
      },
      "source": [
        "<a href=\"https://colab.research.google.com/github/carlos-alves-one/-BDA-CW1/blob/main/weather_data_analysis.ipynb\" target=\"_parent\"><img src=\"https://colab.research.google.com/assets/colab-badge.svg\" alt=\"Open In Colab\"/></a>"
      ]
    },
    {
      "cell_type": "markdown",
      "source": [
        "### Goldsmiths University of London\n",
        "### MSc. Data Science and Artificial Intelligence\n",
        "### Module: Big Data Analysis\n",
        "### Author: Carlos Manuel De Oliveira Alves\n",
        "### Student: cdeol003\n",
        "### Coursework Project"
      ],
      "metadata": {
        "id": "CMe80Gs3qm-c"
      }
    },
    {
      "cell_type": "markdown",
      "source": [
        "# Define Goal and Tasks\n",
        "\n",
        "THE GOAL OF THIS PROJECT IS TO ANALYZE WEATHER DATA FROM A CSV FILE\n",
        "\n",
        "We will outline the pseudo-code for mapper and reducer functions for each requested task using\n",
        "the MapReduce computational model on a Hadoop cluster to address the tasks.\n",
        "We will then provide Python implementations of these pseudo codes.\n",
        "\n",
        "The tasks are:\n",
        "\n",
        "1. Finding the difference between the maximum and minimum wind speed for each day.\n",
        "\n",
        "2. Finding the daily minimum relative humidity.\n",
        "\n",
        "3. Calculating the daily mean and variance of the dew point temperature.\n",
        "\n",
        "4. Generating a correlation matrix for the month among relative humidity, wind speed,\n",
        "   and dry bulb temperature."
      ],
      "metadata": {
        "id": "u5mJNUk_rLye"
      }
    },
    {
      "cell_type": "markdown",
      "source": [
        "# Question No.1\n",
        "\n",
        "> Find the description statistics for temperature of each day of a given month for the year 2007"
      ],
      "metadata": {
        "id": "vM6pCIOutx85"
      }
    },
    {
      "cell_type": "markdown",
      "source": [
        "# Pseudo-code for the mapper function for Task No.1\n",
        "\n",
        "\n",
        "---\n",
        "\n"
      ],
      "metadata": {
        "id": "GOce8DCDuWft"
      }
    },
    {
      "cell_type": "code",
      "source": [
        "\"\"\"\n",
        "function mapper1(key, value):\n",
        "      parse value to get the date and wind speed\n",
        "      emit (date, wind speed) as the key-value pair\n",
        "\"\"\"\n"
      ],
      "metadata": {
        "colab": {
          "base_uri": "https://localhost:8080/",
          "height": 35
        },
        "id": "JjEBdyuMudiW",
        "outputId": "fdcf4a51-0df3-4986-c3db-7b6ace244312"
      },
      "execution_count": 3,
      "outputs": [
        {
          "output_type": "execute_result",
          "data": {
            "text/plain": [
              "'\\nfunction mapper1(key, value):\\n      parse value to get the date and wind speed\\n      emit (date, wind speed) as the key-value pair\\n'"
            ],
            "application/vnd.google.colaboratory.intrinsic+json": {
              "type": "string"
            }
          },
          "metadata": {},
          "execution_count": 3
        }
      ]
    },
    {
      "cell_type": "markdown",
      "source": [
        "\n",
        "- **`function mapper1(key, value):`**\n",
        "  - This line defines a function named `mapper1`. The function takes two parameters: `key` and `value`. In the context of MapReduce, each input is typically a key-value pair. The `key` might represent some identifier (often unused in the map step), and the `value` represents the data to be processed.\n",
        "\n",
        "- **`parse value to get the date and wind speed`**\n",
        "  - This instruction indicates that the function will process the `value` to extract two specific pieces of information: the date and the wind speed. The parsing method depends on the format of the input data. For example, if the value is a string in the format \"YYYY-MM-DD, wind_speed\", parsing would involve splitting the string by a delimiter (like a comma) and extracting the relevant parts.\n",
        "\n",
        "- **`emit (date, wind speed) as the key-value pair`**\n",
        "  - After parsing the value to extract the date and wind speed, the function \"emits\" or outputs a new key-value pair. In this context, the new key is the date, and the new value is the wind speed. The emit operation is a fundamental part of the MapReduce model, where each mapper function outputs zero or more key-value pairs, which are then processed by reducer functions.\n",
        "\n",
        "The purpose of this mapper function is to transform raw data into a format that is more useful for analysis or further processing. By emitting the date and wind speed as key-value pairs, subsequent reducer functions can easily aggregate, summarize, or analyze wind speed data by date. This could be useful in various applications, such as analyzing weather patterns, forecasting, or studying the effects of climate change."
      ],
      "metadata": {
        "id": "EAfpfXjbxINI"
      }
    }
  ]
}